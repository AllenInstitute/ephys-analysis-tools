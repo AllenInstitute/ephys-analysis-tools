{
 "cells": [
  {
   "cell_type": "code",
   "execution_count": null,
   "metadata": {},
   "outputs": [],
   "source": [
    "# General imports\n",
    "import pandas as pd\n",
    "import os\n",
    "import numpy as np\n",
    "\n",
    "# Pandas display settings\n",
    "pd.set_option(\"display.max_colwidth\",150)\n",
    "pd.set_option('display.max_columns', None)"
   ]
  },
  {
   "cell_type": "code",
   "execution_count": null,
   "metadata": {},
   "outputs": [],
   "source": [
    "# Main JEM directory\n",
    "path_main_jem = \"//allen/programs/celltypes/workgroups/279/Patch-Seq/compiled-jem-data\"\n",
    "\n",
    "# JEM csv files\n",
    "path_jem = os.path.join(path_main_jem, \"jem_metadata.csv\")\n",
    "path_jem_na = os.path.join(path_main_jem, \"NA_jem_metadata.csv\")\n",
    "path_jem_fail = os.path.join(path_main_jem, \"jem_metadata_wFAILURE.csv\")"
   ]
  },
  {
   "cell_type": "code",
   "execution_count": null,
   "metadata": {},
   "outputs": [],
   "source": [
    "# Read all jem dataframes\n",
    "jem_df = pd.read_csv(path_jem, low_memory=False)\n",
    "jem_na_df = pd.read_csv(path_jem_na, low_memory=False)\n",
    "jem_fail_df = pd.read_csv(path_jem_fail, low_memory=False)"
   ]
  },
  {
   "cell_type": "code",
   "execution_count": null,
   "metadata": {},
   "outputs": [],
   "source": [
    "# Replace values \n",
    "jem_df[\"status\"] = jem_df[\"status\"].replace({\"SUCCESS (high confidence)\": \"SUCCESS\"})\n",
    "jem_fail_df[\"status\"] = jem_fail_df[\"status\"].replace({\"SUCCESS (high confidence)\": \"SUCCESS\",\n",
    "                                                       \"NO ATTEMPTS\": \"FAILURE\",\n",
    "                                                       \"Failure\": \"FAILURE\"})\n",
    "\n",
    "# Filter dataframe to only FAILURE\n",
    "jem_fail_df = jem_fail_df[jem_fail_df[\"status\"] == \"FAILURE\"]\n",
    "\n",
    "# Filter tubes and NAs\n",
    "jem_df = jem_df[(jem_df[\"status\"] == \"SUCCESS\")&(~jem_df[\"container\"].isnull())]\n",
    "jem_na_df = jem_na_df[(jem_na_df[\"status\"] == \"SUCCESS\")&(jem_na_df[\"container\"].isnull())]\n",
    "\n",
    "# Replace values\n",
    "jem_na_df[\"container\"] = jem_na_df[\"container\"].replace({np.nan: \"Not Applicable\"})\n",
    "\n",
    "# Merging all jem dataframes\n",
    "final_jem_df = pd.concat([jem_df, jem_na_df, jem_fail_df], ignore_index=True, sort=False)"
   ]
  },
  {
   "cell_type": "code",
   "execution_count": null,
   "metadata": {},
   "outputs": [],
   "source": [
    "jem_dictionary = {\n",
    "    # date\n",
    "    \"acsfProductionDate\": \"jem-date_acsf\",\n",
    "    \"blankFillDate\": \"jem-date_blank\",\n",
    "    \"internalFillDate\": \"jem-date_internal\",\n",
    "    \"date\": \"jem-date_patch\",\n",
    "    # depth\n",
    "    \"depth\": \"jem-depth_current\",\n",
    "    \"approach.depth\": \"jem-depth_old\",\n",
    "    \"cell_depth\": \"lims-depth\", #LIMS?\n",
    "    # health\n",
    "    \"approach.cellHealth\": \"jem-health_cell\",\n",
    "    \"extraction.fillquality\": \"jem-health_fill_quality\",\n",
    "    \"approach.sliceHealth\": \"jem-health_slice\",\n",
    "    \"sliceQuality\": \"jem-health_slice_initial\",\n",
    "    \"sliceQualityFinal\": \"jem-health_slice_final\",\n",
    "    # id\n",
    "    \"pipetteSpecName\": \"jem-id_cell_specimen\",\n",
    "    \"container\": \"jem-id_patched_cell_container\",\n",
    "    \"limsSpecName\": \"jem-id_slice_specimen\",\n",
    "    \"rigNumber\": \"jem-id_rig_number\",\n",
    "    \"rigOperator\": \"jem-id_rig_user\",\n",
    "    \"name\": \"lims-id_cell_specimen\", #LIMS?\n",
    "    \"specimen_ID\": \"lims-id_cell_specimen_id\", #LIMS?\n",
    "    \"full_genotype\": \"lims-id_slice_genotype\", #LIMS?\n",
    "    \"organism_name\": \"lims-id_species\", #LIMS?\n",
    "    # notes\n",
    "    \"extraction.extractionNotes\": \"jem-notes_extraction\",\n",
    "    \"freeFailureNotes\": \"jem-notes_failure\",\n",
    "    \"sliceNotes\": \"jem-notes_overall\",\n",
    "    \"qcNotes\": \"jem-notes_qc\",\n",
    "    # nucleus\n",
    "    \"extraction.endPipetteR\": \"jem-nucleus_end_seal_res\",\n",
    "    \"recording.pipetteR\": \"jem-nucleus_pipette_res\",\n",
    "    \"extraction.postPatch\": \"jem-nucleus_post_patch\",\n",
    "    \"extraction.nucleus\": \"jem-nucleus_sucked\",\n",
    "    # options\n",
    "    \"attempt\": \"jem-options_attempt\",\n",
    "    \"failureNotes\": \"jem-options_failure\",\n",
    "    \"successNotes\": \"jem-options_success\",\n",
    "    \"virus_enhancer\": \"jem-options_virus_enhancer\",\n",
    "    # pressure\n",
    "    \"extraction.pressureApplied\": \"jem-pressure_extraction\",\n",
    "    \"extraction.retractionPressureApplied\": \"jem-pressure_retraction\",\n",
    "    # project\n",
    "    \"approach.pilotName\": \"jem-project_name\",\n",
    "    \"approach.project_retrograde_labeling_hemisphere\": \"jem-project_retrograde_labeling_hemisphere\",\n",
    "    \"approach.project_retrograde_labeling_region\": \"jem-project_retrograde_labeling_region\",\n",
    "    \"approach.project_retrograde_labeling_exp\": \"jem-project_retrograde_labeling_exp\",\n",
    "    # region\n",
    "    \"roi\": \"jem-region_major_minor\",\n",
    "    \"roi_major\": \"jem-region_major\", \n",
    "    \"roi_minor\": \"jem-region_minor\",\n",
    "    # status\n",
    "    \"approach.creCell\": \"jem-status_reporter\",\n",
    "    \"status\": \"jem-status_success_fail\",\n",
    "    # time\n",
    "    \"recording.timeStart\": \"jem-time_exp_approach_start\",\n",
    "    \"extraction.timeChannelRecordingEnd\": \"jem-time_exp_channel_end\",\n",
    "    \"extraction.timeEnd\": \"jem-time_exp_end_old\", \n",
    "    \"extraction.timeExtractionEnd\": \"jem-time_exp_extraction_end\",\n",
    "    \"extraction.timeExtractionStart\": \"jem-time_exp_extraction_start\",\n",
    "    \"extraction.timeRetractionEnd\": \"jem-time_exp_retraction_end_current\",\n",
    "    \"recording.timeWholeCellStart\": \"jem-time_exp_whole_cell_start\",\n",
    "    # test\n",
    "    \"lims_check\": \"test-mismatch_jem_lims\"}"
   ]
  },
  {
   "cell_type": "code",
   "execution_count": null,
   "metadata": {},
   "outputs": [],
   "source": [
    "# Renaming columns based on dictionary\n",
    "final_jem_df.rename(columns=jem_dictionary, inplace=True)"
   ]
  },
  {
   "cell_type": "code",
   "execution_count": null,
   "metadata": {},
   "outputs": [],
   "source": [
    "# Filtering dataframe to only IVSCC Group 2017-Current\n",
    "ivscc_rig_users = [\"aarono\",\"balreetp\",\"brianle\",\"dijonh\",\"gabrielal\",\"jessicat\",\"katherineb\",\n",
    "                   \"kristenh\",\"lindsayn\",\"lisak\",\"ramr\",\"rustym\",\"sarav\"]\n",
    "ivscc_rig_numbers = [\"1\",\"2\",\"3\",\"4\",\"5\",\"6\",\"7\",\"8\"]\n",
    "final_jem_df = final_jem_df[final_jem_df[\"jem-id_rig_user\"].isin(ivscc_rig_users)]\n",
    "final_jem_df = final_jem_df[final_jem_df[\"jem-id_rig_number\"].isin(ivscc_rig_numbers)]"
   ]
  },
  {
   "cell_type": "code",
   "execution_count": null,
   "metadata": {},
   "outputs": [],
   "source": [
    "#Fixing depth/time column and combining into one column\n",
    "final_jem_v109_df = final_jem_df[final_jem_df[\"formVersion\"] == \"1.0.9\"]\n",
    "final_jem_vother_df = final_jem_df[final_jem_df[\"formVersion\"] != \"1.0.9\"]\n",
    "final_jem_v109_df.rename(columns={\"jem-depth_old\": \"jem-depth\",\n",
    "                                  \"jem-time_exp_end_old\": \"jem-time_exp_retraction_end\"}, \n",
    "                         inplace=True)\n",
    "final_jem_vother_df.rename(columns={\"jem-depth_current\": \"jem-depth\", \n",
    "                                    \"jem-time_exp_retraction_end_current\": \"jem-time_exp_retraction_end\"}, \n",
    "                           inplace=True)\n",
    "final_jem_df = pd.concat([final_jem_v109_df, final_jem_vother_df])"
   ]
  },
  {
   "cell_type": "code",
   "execution_count": null,
   "metadata": {},
   "outputs": [],
   "source": [
    "# Fixing datetime column to only date column\n",
    "split_date = final_jem_df[\"jem-date_patch\"].str.split(\" \", n=1, expand=True) # Splitting date and time into 2 columns\n",
    "final_jem_df[\"jem-date_patch\"] = split_date[0] # Choosing column with only the dates\n",
    "\n",
    "# Removing timezones from time columns\n",
    "columns_time = [\"jem-time_exp_approach_start\", \"jem-time_exp_channel_end\", \"jem-time_exp_extraction_end\", \n",
    "                \"jem-time_exp_extraction_start\", \"jem-time_exp_retraction_end\", \"jem-time_exp_whole_cell_start\"]  \n",
    "for col in columns_time:\n",
    "    split_timezone = final_jem_df[col].str.split(\" \", n=1, expand=True) # Splitting time and timezone into 2 columns\n",
    "    final_jem_df[col] = split_timezone[0] # Choosing column with only the time\n",
    "\n",
    "# Adding in year, monnth, day columns\n",
    "final_jem_df[\"jem-date_patch_y-m-d\"] = final_jem_df[\"jem-date_patch\"]\n",
    "split_date = final_jem_df[\"jem-date_patch_y-m-d\"].str.split(\"-\", n=2, expand=True) # Splitting year, month and day\n",
    "final_jem_df[\"jem-date_patch_y\"] = split_date[0] # Choosing column with years\n",
    "final_jem_df[\"jem-date_patch_m\"] = split_date[1] # Choosing column with months\n",
    "final_jem_df[\"jem-date_patch_d\"] = split_date[2] # Choosing column with days    "
   ]
  },
  {
   "cell_type": "code",
   "execution_count": null,
   "metadata": {},
   "outputs": [],
   "source": [
    "# Changing date columns to a datetime\n",
    "final_jem_df[\"jem-date_acsf\"] = pd.to_datetime(final_jem_df[\"jem-date_acsf\"])\n",
    "final_jem_df[\"jem-date_blank\"] = pd.to_datetime(final_jem_df[\"jem-date_blank\"])\n",
    "final_jem_df[\"jem-date_internal\"] = pd.to_datetime(final_jem_df[\"jem-date_internal\"])\n",
    "final_jem_df[\"jem-date_patch\"] = pd.to_datetime(final_jem_df[\"jem-date_patch\"])\n",
    "\n",
    "# Changing date column format to MM/DD/YYYY\n",
    "final_jem_df[\"jem-date_acsf\"] = final_jem_df[\"jem-date_acsf\"].dt.strftime(\"%m/%d/%Y\")\n",
    "final_jem_df[\"jem-date_blank\"] = final_jem_df[\"jem-date_blank\"].dt.strftime(\"%m/%d/%Y\")\n",
    "final_jem_df[\"jem-date_internal\"] = final_jem_df[\"jem-date_internal\"].dt.strftime(\"%m/%d/%Y\")\n",
    "final_jem_df[\"jem-date_patch\"] = final_jem_df[\"jem-date_patch\"].dt.strftime(\"%m/%d/%Y\")\n",
    "\n",
    "# Convert string column to float column and apply absolute value to columns\n",
    "final_jem_df[\"jem-depth\"] = pd.to_numeric(final_jem_df[\"jem-depth\"], errors='coerce').abs()\n",
    "final_jem_df[\"lims-depth\"] = pd.to_numeric(final_jem_df[\"lims-depth\"], errors='coerce').abs()\n",
    "final_jem_df[\"jem-pressure_extraction\"] = pd.to_numeric(final_jem_df[\"jem-pressure_extraction\"], errors='coerce').abs()\n",
    "final_jem_df[\"jem-pressure_retraction\"] = pd.to_numeric(final_jem_df[\"jem-pressure_retraction\"], errors='coerce').abs()\n",
    "final_jem_df[\"jem-nucleus_pipette_res\"] = pd.to_numeric(final_jem_df[\"jem-nucleus_pipette_res\"], errors='coerce').abs()\n",
    "final_jem_df[\"jem-nucleus_end_seal_res\"] = pd.to_numeric(final_jem_df[\"jem-nucleus_end_seal_res\"], errors='coerce').abs()\n",
    "\n",
    "# Create duration columns\n",
    "final_jem_df[\"jem-time_duration_exp\"] = pd.to_datetime(final_jem_df[\"jem-time_exp_retraction_end\"]) - pd.to_datetime(final_jem_df[\"jem-time_exp_whole_cell_start\"])\n",
    "final_jem_df[\"jem-time_duration_ext\"] = pd.to_datetime(final_jem_df[\"jem-time_exp_extraction_end\"]) - pd.to_datetime(final_jem_df[\"jem-time_exp_extraction_start\"])\n",
    "final_jem_df[\"jem-time_duration_ret\"] = pd.to_datetime(final_jem_df[\"jem-time_exp_retraction_end\"]) - pd.to_datetime(final_jem_df[\"jem-time_exp_extraction_end\"])\n",
    "final_jem_df[\"jem-time_duration_exp\"] = (final_jem_df[\"jem-time_duration_exp\"].astype('timedelta64[s]'))/60\n",
    "final_jem_df[\"jem-time_duration_ext\"] = (final_jem_df[\"jem-time_duration_ext\"].astype('timedelta64[s]'))/60\n",
    "final_jem_df[\"jem-time_duration_ret\"] = (final_jem_df[\"jem-time_duration_ret\"].astype('timedelta64[s]'))/60"
   ]
  },
  {
   "cell_type": "code",
   "execution_count": null,
   "metadata": {},
   "outputs": [],
   "source": [
    "# Test columns\n",
    "final_jem_df[\"test-mismatch_depth\"] = final_jem_df[\"jem-depth\"] == final_jem_df[\"lims-depth\"]\n",
    "final_jem_df[\"test-mismatch_id_cell_specimen\"] = final_jem_df[\"jem-id_cell_specimen\"] == final_jem_df[\"lims-id_cell_specimen\"]"
   ]
  },
  {
   "cell_type": "code",
   "execution_count": null,
   "metadata": {},
   "outputs": [],
   "source": [
    "# Replace values in columns\n",
    "final_jem_df[\"jem-region_major_minor\"] = final_jem_df[\"jem-region_major_minor\"].replace(to_replace=\"layer \", value=\"L\", regex=True)\n",
    "final_jem_df[\"jem-region_major_minor\"] = final_jem_df[\"jem-region_major_minor\"].replace(to_replace=\"/\", value=\"-\", regex=True)\n",
    "final_jem_df[\"jem-region_minor\"] = final_jem_df[\"jem-region_minor\"].replace(to_replace=\"layer \", value=\"L\", regex=True)\n",
    "final_jem_df[\"jem-region_minor\"] = final_jem_df[\"jem-region_minor\"].replace(to_replace=\"/\", value=\"-\", regex=True)\n",
    "final_jem_df[\"jem-health_cell\"] = final_jem_df[\"jem-health_cell\"].replace({\"None\": np.nan})\n",
    "final_jem_df[\"jem-project_name\"] = final_jem_df[\"jem-project_name\"].replace({np.nan: \"None\"})\n",
    "final_jem_df[\"jem-health_slice_initial\"] = final_jem_df[\"jem-health_slice_initial\"].replace({\"Damaged\": \"Damage (Tissue Processing)\",\n",
    "                                                                                             \"Good\": \"Healthy\",\n",
    "                                                                                             \"Wave of Death\": \"Wave of Death (after 30 min)\",\n",
    "                                                                                             \"'Wave of Death'\": \"Wave of Death (after 30 min)\"})\n",
    "final_jem_df[\"jem-status_reporter\"] = final_jem_df[\"jem-status_reporter\"].replace({\"Cre+\": \"Positive\",\n",
    "                                                                                   \"Cre-\": \"Negative\",\n",
    "                                                                                   \"human\": np.nan,\n",
    "                                                                                   \"None\": np.nan})"
   ]
  },
  {
   "cell_type": "code",
   "execution_count": null,
   "metadata": {},
   "outputs": [],
   "source": [
    "# Convert column to integer column\n",
    "final_jem_df[\"jem-health_cell\"] = final_jem_df[\"jem-health_cell\"].fillna(value=0)\n",
    "final_jem_df[\"jem-options_attempt\"] = final_jem_df[\"jem-options_attempt\"].fillna(value=0)\n",
    "final_jem_df[\"jem-health_cell\"] = final_jem_df[\"jem-health_cell\"].astype(int)\n",
    "final_jem_df[\"jem-options_attempt\"] = final_jem_df[\"jem-options_attempt\"].astype(int)\n",
    "final_jem_df[\"jem-id_rig_number\"] = final_jem_df[\"jem-id_rig_number\"].astype(int)"
   ]
  },
  {
   "cell_type": "code",
   "execution_count": null,
   "metadata": {},
   "outputs": [],
   "source": [
    "# Add a new column\n",
    "final_jem_df[\"jem-nucleus_post_patch_detail\"] = pd.np.where(((final_jem_df[\"jem-nucleus_post_patch\"]==\"nucleus_present\")|(final_jem_df[\"jem-nucleus_post_patch\"]==\"entire_cell\"))&(final_jem_df[\"jem-nucleus_end_seal_res\"]>=1000), \"Nuc-giga-seal\",\n",
    "                                                            pd.np.where(((final_jem_df[\"jem-nucleus_post_patch\"]==\"nucleus_present\")|(final_jem_df[\"jem-nucleus_post_patch\"]==\"entire_cell\"))&(final_jem_df[\"jem-nucleus_end_seal_res\"]<1000), \"Nuc-low-seal\",\n",
    "                                                            pd.np.where(final_jem_df[\"jem-nucleus_post_patch\"]==\"nucleus_absent\", \"No-seal\",\n",
    "                                                            pd.np.where(final_jem_df[\"jem-nucleus_post_patch\"]==\"unknown\", \"Unknown\", \"Not applicable\"))))"
   ]
  },
  {
   "cell_type": "code",
   "execution_count": null,
   "metadata": {},
   "outputs": [],
   "source": [
    "# Sort columns alphabetically and by date\n",
    "final_jem_df = final_jem_df.sort_index(axis=1)\n",
    "final_jem_df.sort_values(by=[\"jem-date_patch_y-m-d\",\n",
    "                             \"jem-id_slice_specimen\",\n",
    "                             \"jem-id_cell_specimen\",\n",
    "                             \"jem-options_attempt\"],\n",
    "                        inplace=True)"
   ]
  },
  {
   "cell_type": "code",
   "execution_count": null,
   "metadata": {},
   "outputs": [],
   "source": [
    "# Dropping columns\n",
    "final_jem_df.drop(columns=[\"approach.pilotTest01\",\n",
    "                           \"approach.pilotTest04\",\n",
    "                           \"approach.pilotTest05\",\n",
    "                           \"approach.pilotTestYN\",\n",
    "                           \"badSweeps\",\n",
    "                           \"experimentType\",\n",
    "                           \"extraction.extractionObservations\",\n",
    "                           \"extraction.sampleObservations\",\n",
    "                           \"extraction.timeRetractionStart\",\n",
    "                           \"failureCause\",\n",
    "                           \"flipped\",\n",
    "                           \"internalSolution.concentrationBiocytin\",\n",
    "                           \"internalSolution.concentrationRnaseInhibitor\", \n",
    "                           \"internalSolution.version\",\n",
    "                           \"internalSolution.volume\",\n",
    "                           \"jem-health_slice\",\n",
    "                           \"recording.accessR\",\n",
    "                           \"recording.humanCellTypePrediction\",\n",
    "                           \"recording.membraneV\",\n",
    "                           \"recording.rheobase\", \n",
    "                           \"extraction.tubeID\",\n",
    "                           \"jem_created\",\n",
    "                           \"jem_date_dt\",\n",
    "                           \"jem_date_m\",\n",
    "                           \"extraction.pilotNameExtra\",\n",
    "                           \"formVersion\",\n",
    "                           \"jem-depth_current\",\n",
    "                           \"jem-depth_old\",\n",
    "                           \"jem-time_exp_end_old\",\n",
    "                           \"jem-time_exp_retraction_end_current\", \n",
    "                           \"wellID\"],\n",
    "                  inplace=True)"
   ]
  },
  {
   "cell_type": "markdown",
   "metadata": {},
   "source": [
    "##### Final Output"
   ]
  },
  {
   "cell_type": "code",
   "execution_count": null,
   "metadata": {},
   "outputs": [],
   "source": [
    "# Dataframe to csvs\n",
    "final_jem_df.to_csv(\"final_jem.csv\", index=False)\n",
    "\n",
    "# Dataframe to excel\n",
    "final_jem_df.to_excel(excel_writer=\"final_jem.xlsx\", index=False)"
   ]
  },
  {
   "cell_type": "markdown",
   "metadata": {},
   "source": [
    "##### Testing"
   ]
  },
  {
   "cell_type": "code",
   "execution_count": null,
   "metadata": {},
   "outputs": [],
   "source": [
    "len(final_jem_df)"
   ]
  },
  {
   "cell_type": "code",
   "execution_count": null,
   "metadata": {
    "scrolled": true
   },
   "outputs": [],
   "source": [
    "df = final_jem_df[final_jem_df[\"jem-status_success_fail\"] == \"SUCCESS\"]\n",
    "len(df)"
   ]
  },
  {
   "cell_type": "code",
   "execution_count": null,
   "metadata": {},
   "outputs": [],
   "source": [
    "df1 = df[df[\"jem-id_patched_cell_container\"] == \"Not Applicable\"]\n",
    "len(df1)"
   ]
  },
  {
   "cell_type": "code",
   "execution_count": null,
   "metadata": {},
   "outputs": [],
   "source": [
    "df2 = df1[df1[\"jem-id_cell_specimen\"].isnull()]\n",
    "len(df2)"
   ]
  },
  {
   "cell_type": "code",
   "execution_count": null,
   "metadata": {},
   "outputs": [],
   "source": [
    "df['jem-options_attempt'].unique()"
   ]
  },
  {
   "cell_type": "code",
   "execution_count": null,
   "metadata": {},
   "outputs": [],
   "source": [
    "df['jem-options_attempt'] = df['jem-options_attempt'].astype(str)\n",
    "df['jem-options_attempt'] = df['jem-options_attempt'].str.zfill(2)"
   ]
  },
  {
   "cell_type": "code",
   "execution_count": null,
   "metadata": {},
   "outputs": [],
   "source": [
    "df['jem-options_attempt'].unique()"
   ]
  },
  {
   "cell_type": "code",
   "execution_count": null,
   "metadata": {},
   "outputs": [],
   "source": [
    "df2[\"jem-id_cell_specimen\"] = df1[\"jem-id_slice_specimen\"] + \".\" + df['jem-options_attempt']"
   ]
  },
  {
   "cell_type": "code",
   "execution_count": null,
   "metadata": {},
   "outputs": [],
   "source": [
    "df2.sort_values(by=[\"jem-date_patch_y-m-d\",\"jem-id_slice_specimen\",\"jem-options_attempt\"],inplace=True)"
   ]
  },
  {
   "cell_type": "code",
   "execution_count": null,
   "metadata": {},
   "outputs": [],
   "source": []
  }
 ],
 "metadata": {
  "kernelspec": {
   "display_name": "Python 3",
   "language": "python",
   "name": "python3"
  },
  "language_info": {
   "codemirror_mode": {
    "name": "ipython",
    "version": 3
   },
   "file_extension": ".py",
   "mimetype": "text/x-python",
   "name": "python",
   "nbconvert_exporter": "python",
   "pygments_lexer": "ipython3",
   "version": "3.7.4"
  }
 },
 "nbformat": 4,
 "nbformat_minor": 2
}
